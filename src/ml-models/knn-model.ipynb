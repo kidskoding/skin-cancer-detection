{
 "cells": [
  {
   "cell_type": "code",
   "outputs": [],
   "source": [
    "from google.colab.output import eval_js\n",
    "\n",
    "import time\n",
    "start_time = time.time()\n",
    "\n",
    "!pip install tensorflow\n",
    "import tensorflow as tf\n",
    "from tensorflow.keras.preprocessing.image import ImageDataGenerator\n",
    "from tqdm.notebook import tqdm\n",
    "\n",
    "import keras\n",
    "from keras import backend as K\n",
    "from tensorflow.keras.layers import *\n",
    "from keras.models import Sequential\n",
    "from keras.layers import Dense, Conv2D\n",
    "from keras.layers import Activation, MaxPooling2D, Dropout, Flatten, Reshape\n",
    "\n",
    "!pip install scikeras\n",
    "from scikeras.wrappers import KerasClassifier\n",
    "\n",
    "import matplotlib.pyplot as plt\n",
    "import matplotlib\n",
    "import seaborn as sns\n",
    "import os\n",
    "import random\n",
    "from PIL import Image\n",
    "import gdown\n",
    "\n",
    "import argparse\n",
    "import numpy as np\n",
    "from keras.layers import Conv2D, Input, BatchNormalization, LeakyReLU, ZeroPadding2D, UpSampling2D, Add, Concatenate\n",
    "from keras.models import Model\n",
    "import struct\n",
    "from google.colab.patches import cv2_imshow\n",
    "from copy import deepcopy\n",
    "import pandas as pd\n",
    "\n",
    "from sklearn.model_selection import train_test_split\n",
    "from sklearn.linear_model import LogisticRegression\n",
    "from sklearn.neighbors import KNeighborsClassifier\n",
    "from sklearn import tree\n",
    "from sklearn.metrics import confusion_matrix, classification_report\n",
    "from sklearn.metrics import precision_recall_curve\n",
    "from sklearn.metrics import roc_auc_score\n",
    "from sklearn.base import BaseEstimator\n",
    "\n",
    "from sklearn.neural_network import MLPClassifier\n",
    "from sklearn.neighbors import KNeighborsClassifier\n",
    "from sklearn.svm import SVC\n",
    "from sklearn.gaussian_process import GaussianProcessClassifier\n",
    "from sklearn.gaussian_process.kernels import RBF\n",
    "from sklearn.tree import DecisionTreeClassifier\n",
    "from sklearn.ensemble import RandomForestClassifier, AdaBoostClassifier\n",
    "from sklearn.naive_bayes import GaussianNB\n",
    "from sklearn.discriminant_analysis import QuadraticDiscriminantAnalysis\n",
    "\n",
    "from sklearn.metrics import make_scorer\n",
    "from sklearn.metrics import accuracy_score\n",
    "from keras.applications.mobilenet import MobileNet\n",
    "\n",
    "!pip install hypopt\n",
    "from hypopt import GridSearch\n",
    "\n",
    "from sklearn.decomposition import PCA\n",
    "from sklearn.manifold import TSNE\n",
    "\n",
    "from sklearn.cluster import KMeans\n",
    "from sklearn.cluster import AgglomerativeClustering\n",
    "\n",
    "!pip install -U opencv-contrib-python\n",
    "import cv2\n",
    "\n",
    "!pip install tensorflowjs\n",
    "import tensorflowjs as tfjs\n",
    "\n",
    "from google.colab import files\n",
    "\n",
    "import requests, io, zipfile\n",
    "\n",
    "# Prepare data\n",
    "os.makedirs('images_1', exist_ok=True)\n",
    "os.makedirs('images_2', exist_ok=True)\n",
    "os.makedirs('images_all', exist_ok=True)\n",
    "\n",
    "metadata_path = 'metadata.csv'\n",
    "image_path_1 = 'images_1.zip'\n",
    "image_path_2 = 'images_2.zip'\n",
    "images_rgb_path = 'hmnist_8_8_RGB.csv'\n",
    "\n",
    "!wget -O metadata.csv 'https://storage.googleapis.com/inspirit-ai-data-bucket-1/Data/AI%20Scholars/Sessions%206%20-%2010%20(Projects)/Project%20-%20(Healthcare%20B)%20Skin%20Cancer%20Diagnosis/metadata.csv'\n",
    "!wget -O images_1.zip 'https://storage.googleapis.com/inspirit-ai-data-bucket-1/Data/AI%20Scholars/Sessions%206%20-%2010%20(Projects)/Project%20-%20(Healthcare%20B)%20Skin%20Cancer%20Diagnosis/images_1.zip'\n",
    "!wget -O images_2.zip 'https://storage.googleapis.com/inspirit-ai-data-bucket-1/Data/AI%20Scholars/Sessions%206%20-%2010%20(Projects)/Project%20-%20(Healthcare%20B)%20Skin%20Cancer%20Diagnosis/images_2.zip'\n",
    "!wget -O hmnist_8_8_RGB.csv 'https://storage.googleapis.com/inspirit-ai-data-bucket-1/Data/AI%20Scholars/Sessions%206%20-%2010%20(Projects)/Project%20-%20(Healthcare%20B)%20Skin%20Cancer%20Diagnosis/hmnist_8_8_RGB.csv'\n",
    "!unzip -q -o images_1.zip -d images_1\n",
    "!unzip -q -o images_2.zip -d images_2\n",
    "\n",
    "!pip install patool\n",
    "import patoolib\n",
    "\n",
    "import os.path\n",
    "from os import path\n",
    "\n",
    "from distutils.dir_util import copy_tree\n",
    "\n",
    "fromDirectory = 'images_1'\n",
    "toDirectory = 'images_all'\n",
    "\n",
    "copy_tree(fromDirectory, toDirectory)\n",
    "\n",
    "fromDirectory = 'images_2'\n",
    "toDirectory = 'images_all'\n",
    "\n",
    "copy_tree(fromDirectory, toDirectory)"
   ],
   "metadata": {
    "collapsed": true,
    "ExecuteTime": {
     "end_time": "2024-03-20T03:15:04.399350Z",
     "start_time": "2024-03-20T03:15:04.394164Z"
    }
   },
   "id": "initial_id",
   "execution_count": null
  },
  {
   "cell_type": "code",
   "outputs": [],
   "source": [
    "IMG_WIDTH = 100\n",
    "IMG_HEIGHT = 75"
   ],
   "metadata": {
    "collapsed": false
   },
   "id": "98ec5ea99bc1294"
  },
  {
   "cell_type": "code",
   "outputs": [],
   "source": [
    "X = []\n",
    "X_gray = []\n",
    "\n",
    "y = []"
   ],
   "metadata": {
    "collapsed": false
   },
   "id": "d5c9a7d0dd1654b5"
  },
  {
   "cell_type": "code",
   "outputs": [],
   "source": [
    "metadata = pd.read_csv(metadata_path)\n",
    "metadata['category'] = metadata['dx'].replace({'akiec': 0, 'bcc': 1, 'bkl': 2, 'df': 3, 'mel': 4, 'nv': 5, 'vasc': 6,})\n",
    "\n",
    "\n",
    "for i in tqdm(range(len(metadata))):\n",
    "    image_meta = metadata.iloc[i]\n",
    "    path = os.path.join(toDirectory, image_meta['image_id'] + '.jpg')\n",
    "    img = cv2.imread(path,cv2.IMREAD_COLOR)\n",
    "    img = cv2.resize(img,(IMG_WIDTH,IMG_HEIGHT))\n",
    "\n",
    "    img_g = cv2.cvtColor(img,cv2.COLOR_BGR2GRAY)\n",
    "    X_gray.append(img_g)\n",
    "\n",
    "    X.append(img)\n",
    "    y.append(image_meta['category'])\n",
    "\n",
    "X_gray = np.array(X_gray)\n",
    "X = np.array(X)\n",
    "y = np.array(y)"
   ],
   "metadata": {
    "collapsed": false
   },
   "id": "3e04549c64d324e7"
  },
  {
   "cell_type": "code",
   "outputs": [],
   "source": [
    "print(X_gray.shape)\n",
    "print(X.shape)\n",
    "print(y.shape)"
   ],
   "metadata": {
    "collapsed": false
   },
   "id": "18c232ec5caa077a"
  },
  {
   "cell_type": "code",
   "outputs": [],
   "source": [
    "cv2_imshow(X_gray[10014])"
   ],
   "metadata": {
    "collapsed": false
   },
   "id": "ac8ec4b4536a4f2c"
  },
  {
   "cell_type": "code",
   "outputs": [],
   "source": [
    "sample_cap = 142\n",
    "option = 1"
   ],
   "metadata": {
    "collapsed": false
   },
   "id": "59d942f0b5bc2d6f"
  },
  {
   "cell_type": "code",
   "outputs": [],
   "source": [
    "if option == 1:\n",
    "    objects = ['akiec', 'bcc', 'bkl', 'df', 'mel', 'nv', 'vasc']\n",
    "    class_totals = [0,0,0,0,0,0,0]\n",
    "    iter_samples = [0,0,0,0,0,0,0]\n",
    "    indicies = []\n",
    "\n",
    "    for i in range(len(X)):\n",
    "        class_totals[y[i]] += 1\n",
    "\n",
    "    print(\"Initial Class Samples\")\n",
    "    print(class_totals)\n",
    "\n",
    "    for i in range(len(X)):\n",
    "        if iter_samples[y[i]] != sample_cap:\n",
    "            indicies.append(i)\n",
    "            iter_samples[y[i]] += 1\n",
    "\n",
    "    X = X[indicies]\n",
    "    X_gray = X_gray[indicies]\n",
    "\n",
    "    y = y[indicies]\n",
    "\n",
    "    class_totals = [0,0,0,0,0,0,0]\n",
    "\n",
    "    for i in range(len(X)):\n",
    "        class_totals[y[i]] += 1\n",
    "\n",
    "    print(\"Modified Class Samples\")\n",
    "    print(class_totals)"
   ],
   "metadata": {
    "collapsed": false
   },
   "id": "7d0d04323fbff2b8"
  },
  {
   "cell_type": "code",
   "outputs": [],
   "source": [
    "X_gray_train, X_gray_test, y_train, y_test = train_test_split(X_gray, y, test_size=0.4, random_state=101)"
   ],
   "metadata": {
    "collapsed": false
   },
   "id": "73033ef744996c5e"
  },
  {
   "cell_type": "code",
   "outputs": [],
   "source": [
    "X_train, X_test, y_train, y_test = train_test_split(X, y, test_size=0.4, random_state=101)"
   ],
   "metadata": {
    "collapsed": false
   },
   "id": "88d5d0885e851beb"
  },
  {
   "cell_type": "code",
   "outputs": [],
   "source": [
    "X_augmented = []\n",
    "X_gray_augmented = []\n",
    "\n",
    "y_augmented = []\n",
    "\n",
    "for i in tqdm(range(len(X_train))):\n",
    "    transform = random.randint(0,1)\n",
    "    if transform == 0:\n",
    "        flipped_image = None\n",
    "        flipped_image_gray = None\n",
    "\n",
    "        X_augmented.append(flipped_image)\n",
    "        X_gray_augmented.append(flipped_image_gray)\n",
    "        y_augmented.append(y_train[i])\n",
    "    else:\n",
    "        zoomed_image = None\n",
    "        zoomed_image_gray = None\n",
    "\n",
    "        X_augmented.append(zoomed_image)\n",
    "        X_gray_augmented.append(zoomed_image_gray)\n",
    "        y_augmented.append(y_train[i])"
   ],
   "metadata": {
    "collapsed": false
   },
   "id": "e56a39d58e9cfa4b"
  },
  {
   "cell_type": "code",
   "outputs": [],
   "source": [
    "knn = KNeighborsClassifier(n_neighbors=5)"
   ],
   "metadata": {
    "collapsed": false
   },
   "id": "88acead89d7b7e4c"
  },
  {
   "cell_type": "code",
   "outputs": [
    {
     "ename": "NameError",
     "evalue": "name 'X_gray_train' is not defined",
     "output_type": "error",
     "traceback": [
      "\u001B[1;31m---------------------------------------------------------------------------\u001B[0m",
      "\u001B[1;31mNameError\u001B[0m                                 Traceback (most recent call last)",
      "Cell \u001B[1;32mIn[4], line 1\u001B[0m\n\u001B[1;32m----> 1\u001B[0m X_g_train_flat \u001B[38;5;241m=\u001B[39m X_gray_train\u001B[38;5;241m.\u001B[39mreshape(X_gray_train\u001B[38;5;241m.\u001B[39mshape[\u001B[38;5;241m0\u001B[39m],\u001B[38;5;241m-\u001B[39m\u001B[38;5;241m1\u001B[39m)\n\u001B[0;32m      2\u001B[0m X_g_test_flat \u001B[38;5;241m=\u001B[39m X_gray_test\u001B[38;5;241m.\u001B[39mreshape(X_gray_test\u001B[38;5;241m.\u001B[39mshape[\u001B[38;5;241m0\u001B[39m],\u001B[38;5;241m-\u001B[39m\u001B[38;5;241m1\u001B[39m)\n\u001B[0;32m      3\u001B[0m \u001B[38;5;28mprint\u001B[39m (X_g_train_flat\u001B[38;5;241m.\u001B[39mshape)\n",
      "\u001B[1;31mNameError\u001B[0m: name 'X_gray_train' is not defined"
     ]
    }
   ],
   "source": [
    "X_g_train_flat = X_gray_train.reshape(X_gray_train.shape[0],-1)\n",
    "X_g_test_flat = X_gray_test.reshape(X_gray_test.shape[0],-1)\n",
    "print (X_g_train_flat.shape)\n",
    "print (X_g_test_flat.shape)"
   ],
   "metadata": {
    "collapsed": false,
    "ExecuteTime": {
     "end_time": "2024-03-20T03:33:26.092071Z",
     "start_time": "2024-03-20T03:33:26.034673Z"
    }
   },
   "id": "86271dc68b89f85",
   "execution_count": 4
  },
  {
   "cell_type": "code",
   "outputs": [],
   "source": [
    "knn.fit(X_g_train_flat, y_train)"
   ],
   "metadata": {
    "collapsed": false
   },
   "id": "46e9a0c2803847ce"
  },
  {
   "cell_type": "code",
   "outputs": [],
   "source": [
    "def model_stats(name, y_test, y_pred, y_pred_proba):\n",
    "    cm = confusion_matrix(y_test, y_pred)\n",
    "\n",
    "    print(name)\n",
    "\n",
    "    accuracy = accuracy_score(y_test,y_pred)\n",
    "    print (\"The accuracy of the model is \" + str(round(accuracy,5)))\n",
    "\n",
    "    roc_score = roc_auc_score(y_test, y_pred_proba, multi_class='ovo')\n",
    "\n",
    "    print (\"The ROC AUC Score of the model is \" + str(round(roc_score,5)))\n",
    "\n",
    "    return cm"
   ],
   "metadata": {
    "collapsed": false,
    "ExecuteTime": {
     "end_time": "2024-03-20T03:33:21.186908Z",
     "start_time": "2024-03-20T03:33:21.177933Z"
    }
   },
   "id": "ffd3d6e10c748704",
   "execution_count": 3
  },
  {
   "cell_type": "code",
   "outputs": [
    {
     "ename": "NameError",
     "evalue": "name 'knn' is not defined",
     "output_type": "error",
     "traceback": [
      "\u001B[1;31m---------------------------------------------------------------------------\u001B[0m",
      "\u001B[1;31mNameError\u001B[0m                                 Traceback (most recent call last)",
      "Cell \u001B[1;32mIn[2], line 1\u001B[0m\n\u001B[1;32m----> 1\u001B[0m y_pred \u001B[38;5;241m=\u001B[39m knn\u001B[38;5;241m.\u001B[39mpredict(X_g_test_flat)\n\u001B[0;32m      2\u001B[0m y_pred_proba \u001B[38;5;241m=\u001B[39m knn\u001B[38;5;241m.\u001B[39mpredict_proba(X_g_test_flat)\n\u001B[0;32m      4\u001B[0m knn_cm \u001B[38;5;241m=\u001B[39m model_stats(\u001B[38;5;124m\"\u001B[39m\u001B[38;5;124mK Nearest Neighbors\u001B[39m\u001B[38;5;124m\"\u001B[39m,y_test,y_pred,y_pred_proba)\n",
      "\u001B[1;31mNameError\u001B[0m: name 'knn' is not defined"
     ]
    }
   ],
   "source": [
    "y_pred = knn.predict(X_g_test_flat)\n",
    "y_pred_proba = knn.predict_proba(X_g_test_flat)\n",
    "\n",
    "knn_cm = model_stats(\"K Nearest Neighbors\",y_test,y_pred,y_pred_proba)"
   ],
   "metadata": {
    "collapsed": false,
    "ExecuteTime": {
     "end_time": "2024-03-20T03:33:19.848788Z",
     "start_time": "2024-03-20T03:33:17.513812Z"
    }
   },
   "id": "8019c59e9927c99",
   "execution_count": 2
  },
  {
   "cell_type": "code",
   "outputs": [],
   "source": [
    "def plot_cm(name, cm):\n",
    "    classes = ['akiec', 'bcc', 'bkl', 'df', 'mel', 'nv', 'vasc']\n",
    "\n",
    "    df_cm = pd.DataFrame(cm, index = [i for i in classes], columns = [i for i in classes])\n",
    "    df_cm = df_cm.round(5)\n",
    "\n",
    "    plt.figure(figsize = (12,8))\n",
    "    sns.heatmap(df_cm, annot=True, fmt='g')\n",
    "    plt.title(name + \" Model Confusion Matrix\")\n",
    "    plt.xlabel(\"Predicted Label\")\n",
    "    plt.ylabel(\"True Label\")\n",
    "    plt.show()"
   ],
   "metadata": {
    "collapsed": false
   },
   "id": "fdd8929724cb083",
   "execution_count": 1
  },
  {
   "cell_type": "code",
   "outputs": [],
   "source": [
    "plot_cm(\"K Nearest Neighbors\",knn_cm)"
   ],
   "metadata": {
    "collapsed": false
   },
   "id": "b4375d690ef59803"
  }
 ],
 "metadata": {
  "kernelspec": {
   "display_name": "Python 3",
   "language": "python",
   "name": "python3"
  },
  "language_info": {
   "codemirror_mode": {
    "name": "ipython",
    "version": 2
   },
   "file_extension": ".py",
   "mimetype": "text/x-python",
   "name": "python",
   "nbconvert_exporter": "python",
   "pygments_lexer": "ipython2",
   "version": "2.7.6"
  }
 },
 "nbformat": 4,
 "nbformat_minor": 5
}
